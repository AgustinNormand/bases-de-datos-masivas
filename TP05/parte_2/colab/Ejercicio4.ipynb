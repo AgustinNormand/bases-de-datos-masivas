{
  "nbformat": 4,
  "nbformat_minor": 0,
  "metadata": {
    "colab": {
      "name": "Ejercicio4.ipynb",
      "provenance": [],
      "collapsed_sections": []
    },
    "kernelspec": {
      "name": "python3",
      "display_name": "Python 3"
    },
    "language_info": {
      "name": "python"
    }
  },
  "cells": [
    {
      "cell_type": "code",
      "metadata": {
        "colab": {
          "base_uri": "https://localhost:8080/"
        },
        "id": "nDuIkykZ9QLx",
        "outputId": "b8160803-9aa2-4790-ed25-d9401ba8f10d"
      },
      "source": [
        "!rm trigo.csv\n",
        "!wget https://raw.githubusercontent.com/bdm-unlu/2021/main/TPs/TP05/TP0502/trigo.csv"
      ],
      "execution_count": null,
      "outputs": [
        {
          "output_type": "stream",
          "name": "stdout",
          "text": [
            "--2021-11-05 20:21:51--  https://raw.githubusercontent.com/bdm-unlu/2021/main/TPs/TP05/TP0502/trigo.csv\n",
            "Resolving raw.githubusercontent.com (raw.githubusercontent.com)... 185.199.108.133, 185.199.109.133, 185.199.110.133, ...\n",
            "Connecting to raw.githubusercontent.com (raw.githubusercontent.com)|185.199.108.133|:443... connected.\n",
            "HTTP request sent, awaiting response... 200 OK\n",
            "Length: 9369 (9.1K) [text/plain]\n",
            "Saving to: ‘trigo.csv’\n",
            "\n",
            "\rtrigo.csv             0%[                    ]       0  --.-KB/s               \rtrigo.csv           100%[===================>]   9.15K  --.-KB/s    in 0s      \n",
            "\n",
            "2021-11-05 20:21:51 (80.0 MB/s) - ‘trigo.csv’ saved [9369/9369]\n",
            "\n"
          ]
        }
      ]
    },
    {
      "cell_type": "code",
      "metadata": {
        "colab": {
          "base_uri": "https://localhost:8080/",
          "height": 206
        },
        "id": "YEgP_iy99yjO",
        "outputId": "b838b17d-9f23-4fe4-93f9-3ce4725e6fca"
      },
      "source": [
        "import pandas as pd \n",
        "\n",
        "seeds = pd.read_csv(\"trigo.csv\", delimiter=\";\") \n",
        "\n",
        "feature_names = list(seeds.columns)\n",
        "feature_names.remove(\"tipo\")\n",
        "seeds = seeds[feature_names]\n",
        "\n",
        "seeds.head()"
      ],
      "execution_count": null,
      "outputs": [
        {
          "output_type": "execute_result",
          "data": {
            "text/html": [
              "<div>\n",
              "<style scoped>\n",
              "    .dataframe tbody tr th:only-of-type {\n",
              "        vertical-align: middle;\n",
              "    }\n",
              "\n",
              "    .dataframe tbody tr th {\n",
              "        vertical-align: top;\n",
              "    }\n",
              "\n",
              "    .dataframe thead th {\n",
              "        text-align: right;\n",
              "    }\n",
              "</style>\n",
              "<table border=\"1\" class=\"dataframe\">\n",
              "  <thead>\n",
              "    <tr style=\"text-align: right;\">\n",
              "      <th></th>\n",
              "      <th>area</th>\n",
              "      <th>perimetro</th>\n",
              "      <th>compact</th>\n",
              "      <th>long_kernel</th>\n",
              "      <th>ancho_kernel</th>\n",
              "      <th>coef_asimetrima</th>\n",
              "      <th>long_ranura</th>\n",
              "    </tr>\n",
              "  </thead>\n",
              "  <tbody>\n",
              "    <tr>\n",
              "      <th>0</th>\n",
              "      <td>15,26</td>\n",
              "      <td>14,84</td>\n",
              "      <td>0,871</td>\n",
              "      <td>5,763</td>\n",
              "      <td>3,312</td>\n",
              "      <td>2,221</td>\n",
              "      <td>5,22</td>\n",
              "    </tr>\n",
              "    <tr>\n",
              "      <th>1</th>\n",
              "      <td>14,88</td>\n",
              "      <td>14,57</td>\n",
              "      <td>0,8811</td>\n",
              "      <td>5,554</td>\n",
              "      <td>3,333</td>\n",
              "      <td>1,018</td>\n",
              "      <td>4,956</td>\n",
              "    </tr>\n",
              "    <tr>\n",
              "      <th>2</th>\n",
              "      <td>14,29</td>\n",
              "      <td>14,09</td>\n",
              "      <td>0,905</td>\n",
              "      <td>5,291</td>\n",
              "      <td>3,337</td>\n",
              "      <td>2,699</td>\n",
              "      <td>4,825</td>\n",
              "    </tr>\n",
              "    <tr>\n",
              "      <th>3</th>\n",
              "      <td>13,84</td>\n",
              "      <td>13,94</td>\n",
              "      <td>0,8955</td>\n",
              "      <td>5,324</td>\n",
              "      <td>3,379</td>\n",
              "      <td>2,259</td>\n",
              "      <td>4,805</td>\n",
              "    </tr>\n",
              "    <tr>\n",
              "      <th>4</th>\n",
              "      <td>16,14</td>\n",
              "      <td>14,99</td>\n",
              "      <td>0,9034</td>\n",
              "      <td>5,658</td>\n",
              "      <td>3,562</td>\n",
              "      <td>1,355</td>\n",
              "      <td>5,175</td>\n",
              "    </tr>\n",
              "  </tbody>\n",
              "</table>\n",
              "</div>"
            ],
            "text/plain": [
              "    area perimetro compact long_kernel ancho_kernel coef_asimetrima long_ranura\n",
              "0  15,26     14,84   0,871       5,763        3,312           2,221        5,22\n",
              "1  14,88     14,57  0,8811       5,554        3,333           1,018       4,956\n",
              "2  14,29     14,09   0,905       5,291        3,337           2,699       4,825\n",
              "3  13,84     13,94  0,8955       5,324        3,379           2,259       4,805\n",
              "4  16,14     14,99  0,9034       5,658        3,562           1,355       5,175"
            ]
          },
          "metadata": {},
          "execution_count": 14
        }
      ]
    },
    {
      "cell_type": "code",
      "metadata": {
        "colab": {
          "base_uri": "https://localhost:8080/",
          "height": 424
        },
        "id": "8H9oyx3bDBST",
        "outputId": "37233dda-eb1d-4ba9-fe4f-79f544cc5965"
      },
      "source": [
        "for i in range(7):\n",
        "  seeds[seeds.columns[i]] = seeds.get(seeds.columns[i]).str.replace(',','.')\n",
        "seeds"
      ],
      "execution_count": null,
      "outputs": [
        {
          "output_type": "execute_result",
          "data": {
            "text/html": [
              "<div>\n",
              "<style scoped>\n",
              "    .dataframe tbody tr th:only-of-type {\n",
              "        vertical-align: middle;\n",
              "    }\n",
              "\n",
              "    .dataframe tbody tr th {\n",
              "        vertical-align: top;\n",
              "    }\n",
              "\n",
              "    .dataframe thead th {\n",
              "        text-align: right;\n",
              "    }\n",
              "</style>\n",
              "<table border=\"1\" class=\"dataframe\">\n",
              "  <thead>\n",
              "    <tr style=\"text-align: right;\">\n",
              "      <th></th>\n",
              "      <th>area</th>\n",
              "      <th>perimetro</th>\n",
              "      <th>compact</th>\n",
              "      <th>long_kernel</th>\n",
              "      <th>ancho_kernel</th>\n",
              "      <th>coef_asimetrima</th>\n",
              "      <th>long_ranura</th>\n",
              "    </tr>\n",
              "  </thead>\n",
              "  <tbody>\n",
              "    <tr>\n",
              "      <th>0</th>\n",
              "      <td>15.26</td>\n",
              "      <td>14.84</td>\n",
              "      <td>0.871</td>\n",
              "      <td>5.763</td>\n",
              "      <td>3.312</td>\n",
              "      <td>2.221</td>\n",
              "      <td>5.22</td>\n",
              "    </tr>\n",
              "    <tr>\n",
              "      <th>1</th>\n",
              "      <td>14.88</td>\n",
              "      <td>14.57</td>\n",
              "      <td>0.8811</td>\n",
              "      <td>5.554</td>\n",
              "      <td>3.333</td>\n",
              "      <td>1.018</td>\n",
              "      <td>4.956</td>\n",
              "    </tr>\n",
              "    <tr>\n",
              "      <th>2</th>\n",
              "      <td>14.29</td>\n",
              "      <td>14.09</td>\n",
              "      <td>0.905</td>\n",
              "      <td>5.291</td>\n",
              "      <td>3.337</td>\n",
              "      <td>2.699</td>\n",
              "      <td>4.825</td>\n",
              "    </tr>\n",
              "    <tr>\n",
              "      <th>3</th>\n",
              "      <td>13.84</td>\n",
              "      <td>13.94</td>\n",
              "      <td>0.8955</td>\n",
              "      <td>5.324</td>\n",
              "      <td>3.379</td>\n",
              "      <td>2.259</td>\n",
              "      <td>4.805</td>\n",
              "    </tr>\n",
              "    <tr>\n",
              "      <th>4</th>\n",
              "      <td>16.14</td>\n",
              "      <td>14.99</td>\n",
              "      <td>0.9034</td>\n",
              "      <td>5.658</td>\n",
              "      <td>3.562</td>\n",
              "      <td>1.355</td>\n",
              "      <td>5.175</td>\n",
              "    </tr>\n",
              "    <tr>\n",
              "      <th>...</th>\n",
              "      <td>...</td>\n",
              "      <td>...</td>\n",
              "      <td>...</td>\n",
              "      <td>...</td>\n",
              "      <td>...</td>\n",
              "      <td>...</td>\n",
              "      <td>...</td>\n",
              "    </tr>\n",
              "    <tr>\n",
              "      <th>205</th>\n",
              "      <td>12.19</td>\n",
              "      <td>13.2</td>\n",
              "      <td>0.8783</td>\n",
              "      <td>5.137</td>\n",
              "      <td>2.981</td>\n",
              "      <td>3.631</td>\n",
              "      <td>4.87</td>\n",
              "    </tr>\n",
              "    <tr>\n",
              "      <th>206</th>\n",
              "      <td>11.23</td>\n",
              "      <td>12.88</td>\n",
              "      <td>0.8511</td>\n",
              "      <td>5.14</td>\n",
              "      <td>2.795</td>\n",
              "      <td>4.325</td>\n",
              "      <td>5.003</td>\n",
              "    </tr>\n",
              "    <tr>\n",
              "      <th>207</th>\n",
              "      <td>13.2</td>\n",
              "      <td>13.66</td>\n",
              "      <td>0.8883</td>\n",
              "      <td>5.236</td>\n",
              "      <td>3.232</td>\n",
              "      <td>8.315</td>\n",
              "      <td>5.056</td>\n",
              "    </tr>\n",
              "    <tr>\n",
              "      <th>208</th>\n",
              "      <td>11.84</td>\n",
              "      <td>13.21</td>\n",
              "      <td>0.8521</td>\n",
              "      <td>5.175</td>\n",
              "      <td>2.836</td>\n",
              "      <td>3.598</td>\n",
              "      <td>5.044</td>\n",
              "    </tr>\n",
              "    <tr>\n",
              "      <th>209</th>\n",
              "      <td>12.3</td>\n",
              "      <td>13.34</td>\n",
              "      <td>0.8684</td>\n",
              "      <td>5.243</td>\n",
              "      <td>2.974</td>\n",
              "      <td>5.637</td>\n",
              "      <td>5.063</td>\n",
              "    </tr>\n",
              "  </tbody>\n",
              "</table>\n",
              "<p>210 rows × 7 columns</p>\n",
              "</div>"
            ],
            "text/plain": [
              "      area perimetro compact  ... ancho_kernel coef_asimetrima long_ranura\n",
              "0    15.26     14.84   0.871  ...        3.312           2.221        5.22\n",
              "1    14.88     14.57  0.8811  ...        3.333           1.018       4.956\n",
              "2    14.29     14.09   0.905  ...        3.337           2.699       4.825\n",
              "3    13.84     13.94  0.8955  ...        3.379           2.259       4.805\n",
              "4    16.14     14.99  0.9034  ...        3.562           1.355       5.175\n",
              "..     ...       ...     ...  ...          ...             ...         ...\n",
              "205  12.19      13.2  0.8783  ...        2.981           3.631        4.87\n",
              "206  11.23     12.88  0.8511  ...        2.795           4.325       5.003\n",
              "207   13.2     13.66  0.8883  ...        3.232           8.315       5.056\n",
              "208  11.84     13.21  0.8521  ...        2.836           3.598       5.044\n",
              "209   12.3     13.34  0.8684  ...        2.974           5.637       5.063\n",
              "\n",
              "[210 rows x 7 columns]"
            ]
          },
          "metadata": {},
          "execution_count": 15
        }
      ]
    },
    {
      "cell_type": "code",
      "metadata": {
        "colab": {
          "base_uri": "https://localhost:8080/"
        },
        "id": "C9PVnZ-S-dWK",
        "outputId": "602c97d7-d278-4b55-9652-ae2184a82a36"
      },
      "source": [
        "from sklearn.preprocessing import scale, MinMaxScaler\n",
        "\n",
        "scaled_1 = scale(seeds)\n",
        "\n",
        "print(scaled_1[1:6,])\n"
      ],
      "execution_count": null,
      "outputs": [
        {
          "output_type": "stream",
          "name": "stdout",
          "text": [
            "[[ 0.01118803  0.00822376  0.42851527 -0.16862466  0.19743223 -1.7881662\n",
            "  -0.92201349]\n",
            " [-0.19206658 -0.36020056  1.44238325 -0.76363745  0.20804754 -0.66747933\n",
            "  -1.18919199]\n",
            " [-0.34709127 -0.47533316  1.03938133 -0.68897805  0.31950836 -0.96081795\n",
            "  -1.2299826 ]\n",
            " [ 0.44525718  0.33059504  1.37450924  0.06666556  0.80515903 -1.56349549\n",
            "  -0.4753563 ]\n",
            " [-0.16106164 -0.26809448  1.02241283 -0.54870888  0.14170182 -0.82548218\n",
            "  -0.92201349]]\n"
          ]
        }
      ]
    },
    {
      "cell_type": "code",
      "metadata": {
        "id": "nXU7PgqwEWCz"
      },
      "source": [
        "k = 3\n",
        "\n",
        "from sklearn.cluster import KMeans\n",
        "# Por defecto usa la distancia euclidea\n",
        "km = KMeans(\n",
        "    n_clusters=k, init='random',\n",
        "    n_init=10, random_state=0\n",
        ")\n",
        "\n",
        "# Para definir una métrica de distancia diferente usar el módulo KMeansClusterer\n",
        "# kclusterer = KMeansClusterer(NUM_CLUSTERS, distance=nltk.cluster.util.cosine_distance, repeats=25)\n",
        "y_km = km.fit_predict(scaled_1)"
      ],
      "execution_count": null,
      "outputs": []
    },
    {
      "cell_type": "code",
      "metadata": {
        "id": "_aq0e62JEgrm",
        "colab": {
          "base_uri": "https://localhost:8080/"
        },
        "outputId": "fe55f50a-9395-434d-b12d-80a6a6222d22"
      },
      "source": [
        "print(y_km)"
      ],
      "execution_count": null,
      "outputs": [
        {
          "output_type": "stream",
          "name": "stdout",
          "text": [
            "[2 2 2 2 2 2 2 2 0 2 2 2 2 2 2 2 2 2 2 1 2 2 2 2 2 2 2 2 2 2 2 2 2 2 2 2 2\n",
            " 0 2 2 2 2 2 2 2 2 2 2 2 2 2 2 2 2 2 2 2 2 2 1 1 1 2 1 2 2 2 2 2 1 0 0 0 0\n",
            " 0 0 0 0 0 0 0 0 0 0 0 0 0 0 0 0 0 0 0 0 0 0 0 0 0 0 0 0 0 0 0 0 0 0 0 0 0\n",
            " 0 0 0 0 0 0 0 0 0 0 0 0 0 2 0 0 0 0 0 0 0 2 0 0 2 0 2 2 0 1 1 1 1 1 1 1 1\n",
            " 1 1 1 1 1 1 1 1 1 1 1 1 1 1 1 1 1 2 1 1 1 1 1 1 1 1 1 1 1 1 1 1 1 1 1 1 1\n",
            " 1 1 1 1 1 1 1 1 1 1 1 1 2 1 2 1 2 1 1 1 1 1 1 1 1]\n"
          ]
        }
      ]
    },
    {
      "cell_type": "code",
      "metadata": {
        "colab": {
          "base_uri": "https://localhost:8080/",
          "height": 428
        },
        "id": "-cQPbRm3Emq8",
        "outputId": "447f0595-57e0-4cfa-ac05-6e5d5ff9ff82"
      },
      "source": [
        "import matplotlib.pyplot as plt\n",
        "import matplotlib.colors as colors\n",
        "import seaborn as sns\n",
        "import numpy as np\n",
        "\n",
        "#configuro el tamaño del grafico final\n",
        "plt.figure(figsize=(10,7))\n",
        "\n",
        "#colors = colors_list = list(colors._colors_full_map.values())\n",
        "#colors = [(0.20973515, 0.09747934, 0.24238489), (0.43860848, 0.12177004, 0.34119475), (0.67824099, 0.09192342, 0.3504148), (0.8833417, 0.19830556, 0.26014181), (0.95381595, 0.46373781, 0.31769923), (0.96516917, 0.70776351, 0.5606593)]\n",
        "#colors = sns.color_palette(\"Pastel1\")\n",
        "colors = [\"lightgreen\", \"blue\", \"red\", \"yellow\", \"orange\"]\n",
        "\n",
        "\n",
        "for i in range(k):\n",
        "  plt.scatter(scaled_1[y_km == i, 0], scaled_1[y_km == i, 1],s=50, c=colors[i],marker='o', edgecolor='black',label='cluster '+str(i))\n",
        "\n",
        "#scatter del los centroides\n",
        "plt.scatter(\n",
        "    km.cluster_centers_[:, 0], km.cluster_centers_[:, 1],\n",
        "    s=250, marker='*',\n",
        "    c='white', edgecolor='black',\n",
        "    label='centroides'\n",
        ")\n",
        "#le pongo la leyenda\n",
        "plt.legend(scatterpoints=1)\n",
        "#hace una grilla en el grafico\n",
        "plt.grid()\n",
        "#lo imprime en pantalla\n",
        "plt.show()"
      ],
      "execution_count": null,
      "outputs": [
        {
          "output_type": "display_data",
          "data": {
            "image/png": "[encoded data removed]",
            "text/plain": [
              "<Figure size 720x504 with 1 Axes>"
            ]
          },
          "metadata": {
            "needs_background": "light"
          }
        }
      ]
    },
    {
      "cell_type": "code",
      "metadata": {
        "colab": {
          "base_uri": "https://localhost:8080/",
          "height": 388
        },
        "id": "OorD2fevHVDg",
        "outputId": "3063dce5-6d00-4970-9ea4-dbf49174ce1e"
      },
      "source": [
        "# Corro el algoritmo con K entre 2 y 10 y voy guardando el error para luego graficarlo.\n",
        "sse = []\n",
        "list_k = list(range(1, 10))\n",
        "\n",
        "for k in list_k:\n",
        "    km = KMeans(n_clusters=k)\n",
        "    km.fit(scaled_1)\n",
        "    sse.append(km.inertia_)\n",
        "\n",
        "# Grafico el SSE por K\n",
        "plt.figure(figsize=(6, 6))\n",
        "plt.plot(list_k, sse, '-o')\n",
        "plt.xlabel(r'Cantidad de clusters *k*')\n",
        "plt.ylabel('SSE');"
      ],
      "execution_count": null,
      "outputs": [
        {
          "output_type": "display_data",
          "data": {
            "image/png": "[encoded data removed]",
            "text/plain": [
              "<Figure size 432x432 with 1 Axes>"
            ]
          },
          "metadata": {
            "needs_background": "light"
          }
        }
      ]
    },
    {
      "cell_type": "code",
      "metadata": {
        "id": "VdiFHpzzQuYU",
        "colab": {
          "base_uri": "https://localhost:8080/",
          "height": 140
        },
        "outputId": "9355aeef-a63d-4299-d91a-3830b0f04519"
      },
      "source": [
        "seeds[\"cluster\"] =  y_km\n",
        "seeds.to_csv()"
      ],
      "execution_count": null,
      "outputs": [
        {
          "output_type": "execute_result",
          "data": {
            "application/vnd.google.colaboratory.intrinsic+json": {
              "type": "string"
            },
            "text/plain": [
              "',area,perimetro,compact,long_kernel,ancho_kernel,coef_asimetrima,long_ranura,cluster\\n0,15.26,14.84,0.871,5.763,3.312,2.221,5.22,2\\n1,14.88,14.57,0.8811,5.554,3.333,1.018,4.956,2\\n2,14.29,14.09,0.905,5.291,3.337,2.699,4.825,2\\n3,13.84,13.94,0.8955,5.324,3.379,2.259,4.805,2\\n4,16.14,14.99,0.9034,5.658,3.562,1.355,5.175,2\\n5,14.38,14.21,0.8951,5.386,3.312,2.462,4.956,2\\n6,14.69,14.49,0.8799,5.563,3.259,3.586,5.219,2\\n7,14.11,14.1,0.8911,5.42,3.302,2.7,5,2\\n8,16.63,15.46,0.8747,6.053,3.465,2.04,5.877,0\\n9,16.44,15.25,0.888,5.884,3.505,1.969,5.533,2\\n10,15.26,14.85,0.8696,5.714,3.242,4.543,5.314,2\\n11,14.03,14.16,0.8796,5.438,3.201,1.717,5.001,2\\n12,13.89,14.02,0.888,5.439,3.199,3.986,4.738,2\\n13,13.78,14.06,0.8759,5.479,3.156,3.136,4.872,2\\n14,13.74,14.05,0.8744,5.482,3.114,2.932,4.825,2\\n15,14.59,14.28,0.8993,5.351,3.333,4.185,4.781,2\\n16,13.99,13.83,0.9183,5.119,3.383,5.234,4.781,2\\n17,15.69,14.75,0.9058,5.527,3.514,1.599,5.046,2\\n18,14.7,14.21,0.9153,5.205,3.466,1.767,4.649,2\\n19,12.72,13.57,0.8686,5.226,3.049,4.102,4.914,1\\n20,14.16,14.4,0.8584,5.658,3.129,3.072,5.176,2\\n21,14.11,14.26,0.8722,5.52,3.168,2.688,5.219,2\\n22,15.88,14.9,0.8988,5.618,3.507,0.7651,5.091,2\\n23,12.08,13.23,0.8664,5.099,2.936,1.415,4.961,2\\n24,15.01,14.76,0.8657,5.789,3.245,1.791,5.001,2\\n25,16.19,15.16,0.8849,5.833,3.421,0.903,5.307,2\\n26,13.02,13.76,0.8641,5.395,3.026,3.373,4.825,2\\n27,12.74,13.67,0.8564,5.395,2.956,2.504,4.869,2\\n28,14.11,14.18,0.882,5.541,3.221,2.754,5.038,2\\n29,13.45,14.02,0.8604,5.516,3.065,3.531,5.097,2\\n30,13.16,13.82,0.8662,5.454,2.975,0.8551,5.056,2\\n31,15.49,14.94,0.8724,5.757,3.371,3.412,5.228,2\\n32,14.09,14.41,0.8529,5.717,3.186,3.92,5.299,2\\n33,13.94,14.17,0.8728,5.585,3.15,2.124,5.012,2\\n34,15.05,14.68,0.8779,5.712,3.328,2.129,5.36,2\\n35,16.12,15,0.9,5.709,3.485,2.27,5.443,2\\n36,16.2,15.27,0.8734,5.826,3.464,2.823,5.527,2\\n37,17.08,15.38,0.9079,5.832,3.683,2.956,5.484,0\\n38,14.8,14.52,0.8823,5.656,3.288,3.112,5.309,2\\n39,14.28,14.17,0.8944,5.397,3.298,6.685,5.001,2\\n40,13.54,13.85,0.8871,5.348,3.156,2.587,5.178,2\\n41,13.5,13.85,0.8852,5.351,3.158,2.249,5.176,2\\n42,13.16,13.55,0.9009,5.138,3.201,2.461,4.783,2\\n43,15.5,14.86,0.882,5.877,3.396,4.711,5.528,2\\n44,15.11,14.54,0.8986,5.579,3.462,3.128,5.18,2\\n45,13.8,14.04,0.8794,5.376,3.155,1.56,4.961,2\\n46,15.36,14.76,0.8861,5.701,3.393,1.367,5.132,2\\n47,14.99,14.56,0.8883,5.57,3.377,2.958,5.175,2\\n48,14.79,14.52,0.8819,5.545,3.291,2.704,5.111,2\\n49,14.86,14.67,0.8676,5.678,3.258,2.129,5.351,2\\n50,14.43,14.4,0.8751,5.585,3.272,3.975,5.144,2\\n51,15.78,14.91,0.8923,5.674,3.434,5.593,5.136,2\\n52,14.49,14.61,0.8538,5.715,3.113,4.116,5.396,2\\n53,14.33,14.28,0.8831,5.504,3.199,3.328,5.224,2\\n54,14.52,14.6,0.8557,5.741,3.113,1.481,5.487,2\\n55,15.03,14.77,0.8658,5.702,3.212,1.933,5.439,2\\n56,14.46,14.35,0.8818,5.388,3.377,2.802,5.044,2\\n57,14.92,14.43,0.9006,5.384,3.412,1.142,5.088,2\\n58,15.38,14.77,0.8857,5.662,3.419,1.999,5.222,2\\n59,12.11,13.47,0.8392,5.159,3.032,1.502,4.519,1\\n60,11.42,12.86,0.8683,5.008,2.85,2.7,4.607,1\\n61,11.23,12.63,0.884,4.902,2.879,2.269,4.703,1\\n62,12.36,13.19,0.8923,5.076,3.042,3.22,4.605,2\\n63,13.22,13.84,0.868,5.395,3.07,4.157,5.088,1\\n64,12.78,13.57,0.8716,5.262,3.026,1.176,4.782,2\\n65,12.88,13.5,0.8879,5.139,3.119,2.352,4.607,2\\n66,14.34,14.37,0.8726,5.63,3.19,1.313,5.15,2\\n67,14.01,14.29,0.8625,5.609,3.158,2.217,5.132,2\\n68,14.37,14.39,0.8726,5.569,3.153,1.464,5.3,2\\n69,12.73,13.75,0.8458,5.412,2.882,3.533,5.067,1\\n70,17.63,15.98,0.8673,6.191,3.561,4.076,6.06,0\\n71,16.84,15.67,0.8623,5.998,3.484,4.675,5.877,0\\n72,17.26,15.73,0.8763,5.978,3.594,4.539,5.791,0\\n73,19.11,16.26,0.9081,6.154,3.93,2.936,6.079,0\\n74,16.82,15.51,0.8786,6.017,3.486,4.004,5.841,0\\n75,16.77,15.62,0.8638,5.927,3.438,4.92,5.795,0\\n76,17.32,15.91,0.8599,6.064,3.403,3.824,5.922,0\\n77,20.71,17.23,0.8763,6.579,3.814,4.451,6.451,0\\n78,18.94,16.49,0.875,6.445,3.639,5.064,6.362,0\\n79,17.12,15.55,0.8892,5.85,3.566,2.858,5.746,0\\n80,16.53,15.34,0.8823,5.875,3.467,5.532,5.88,0\\n81,18.72,16.19,0.8977,6.006,3.857,5.324,5.879,0\\n82,20.2,16.89,0.8894,6.285,3.864,5.173,6.187,0\\n83,19.57,16.74,0.8779,6.384,3.772,1.472,6.273,0\\n84,19.51,16.71,0.878,6.366,3.801,2.962,6.185,0\\n85,18.27,16.09,0.887,6.173,3.651,2.443,6.197,0\\n86,18.88,16.26,0.8969,6.084,3.764,1.649,6.109,0\\n87,18.98,16.66,0.859,6.549,3.67,3.691,6.498,0\\n88,21.18,17.21,0.8989,6.573,4.033,5.78,6.231,0\\n89,20.88,17.05,0.9031,6.45,4.032,5.016,6.321,0\\n90,20.1,16.99,0.8746,6.581,3.785,1.955,6.449,0\\n91,18.76,16.2,0.8984,6.172,3.796,3.12,6.053,0\\n92,18.81,16.29,0.8906,6.272,3.693,3.237,6.053,0\\n93,18.59,16.05,0.9066,6.037,3.86,6.001,5.877,0\\n94,18.36,16.52,0.8452,6.666,3.485,4.933,6.448,0\\n95,16.87,15.65,0.8648,6.139,3.463,3.696,5.967,0\\n96,19.31,16.59,0.8815,6.341,3.81,3.477,6.238,0\\n97,18.98,16.57,0.8687,6.449,3.552,2.144,6.453,0\\n98,18.17,16.26,0.8637,6.271,3.512,2.853,6.273,0\\n99,18.72,16.34,0.881,6.219,3.684,2.188,6.097,0\\n100,16.41,15.25,0.8866,5.718,3.525,4.217,5.618,0\\n101,17.99,15.86,0.8992,5.89,3.694,2.068,5.837,0\\n102,19.46,16.5,0.8985,6.113,3.892,4.308,6.009,0\\n103,19.18,16.63,0.8717,6.369,3.681,3.357,6.229,0\\n104,18.95,16.42,0.8829,6.248,3.755,3.368,6.148,0\\n105,18.83,16.29,0.8917,6.037,3.786,2.553,5.879,0\\n106,18.85,16.17,0.9056,6.152,3.806,2.843,6.2,0\\n107,17.63,15.86,0.88,6.033,3.573,3.747,5.929,0\\n108,19.94,16.92,0.8752,6.675,3.763,3.252,6.55,0\\n109,18.55,16.22,0.8865,6.153,3.674,1.738,5.894,0\\n110,18.45,16.12,0.8921,6.107,3.769,2.235,5.794,0\\n111,19.38,16.72,0.8716,6.303,3.791,3.678,5.965,0\\n112,19.13,16.31,0.9035,6.183,3.902,2.109,5.924,0\\n113,19.14,16.61,0.8722,6.259,3.737,6.682,6.053,0\\n114,20.97,17.25,0.8859,6.563,3.991,4.677,6.316,0\\n115,19.06,16.45,0.8854,6.416,3.719,2.248,6.163,0\\n116,18.96,16.2,0.9077,6.051,3.897,4.334,5.75,0\\n117,19.15,16.45,0.889,6.245,3.815,3.084,6.185,0\\n118,18.89,16.23,0.9008,6.227,3.769,3.639,5.966,0\\n119,20.03,16.9,0.8811,6.493,3.857,3.063,6.32,0\\n120,20.24,16.91,0.8897,6.315,3.962,5.901,6.188,0\\n121,18.14,16.12,0.8772,6.059,3.563,3.619,6.011,0\\n122,16.17,15.38,0.8588,5.762,3.387,4.286,5.703,0\\n123,18.43,15.97,0.9077,5.98,3.771,2.984,5.905,0\\n124,15.99,14.89,0.9064,5.363,3.582,3.336,5.144,2\\n125,18.75,16.18,0.8999,6.111,3.869,4.188,5.992,0\\n126,18.65,16.41,0.8698,6.285,3.594,4.391,6.102,0\\n127,17.98,15.85,0.8993,5.979,3.687,2.257,5.919,0\\n128,20.16,17.03,0.8735,6.513,3.773,1.91,6.185,0\\n129,17.55,15.66,0.8991,5.791,3.69,5.366,5.661,0\\n130,18.3,15.89,0.9108,5.979,3.755,2.837,5.962,0\\n131,18.94,16.32,0.8942,6.144,3.825,2.908,5.949,0\\n132,15.38,14.9,0.8706,5.884,3.268,4.462,5.795,2\\n133,16.16,15.33,0.8644,5.845,3.395,4.266,5.795,0\\n134,15.56,14.89,0.8823,5.776,3.408,4.972,5.847,0\\n135,15.38,14.66,0.899,5.477,3.465,3.6,5.439,2\\n136,17.36,15.76,0.8785,6.145,3.574,3.526,5.971,0\\n137,15.57,15.15,0.8527,5.92,3.231,2.64,5.879,2\\n138,15.6,15.11,0.858,5.832,3.286,2.725,5.752,2\\n139,16.23,15.18,0.885,5.872,3.472,3.769,5.922,0\\n140,13.07,13.92,0.848,5.472,2.994,5.304,5.395,1\\n141,13.32,13.94,0.8613,5.541,3.073,7.035,5.44,1\\n142,13.34,13.95,0.862,5.389,3.074,5.995,5.307,1\\n143,12.22,13.32,0.8652,5.224,2.967,5.469,5.221,1\\n144,11.82,13.4,0.8274,5.314,2.777,4.471,5.178,1\\n145,11.21,13.13,0.8167,5.279,2.687,6.169,5.275,1\\n146,11.43,13.13,0.8335,5.176,2.719,2.221,5.132,1\\n147,12.49,13.46,0.8658,5.267,2.967,4.421,5.002,1\\n148,12.7,13.71,0.8491,5.386,2.911,3.26,5.316,1\\n149,10.79,12.93,0.8107,5.317,2.648,5.462,5.194,1\\n150,11.83,13.23,0.8496,5.263,2.84,5.195,5.307,1\\n151,12.01,13.52,0.8249,5.405,2.776,6.992,5.27,1\\n152,12.26,13.6,0.8333,5.408,2.833,4.756,5.36,1\\n153,11.18,13.04,0.8266,5.22,2.693,3.332,5.001,1\\n154,11.36,13.05,0.8382,5.175,2.755,4.048,5.263,1\\n155,11.19,13.05,0.8253,5.25,2.675,5.813,5.219,1\\n156,11.34,12.87,0.8596,5.053,2.849,3.347,5.003,1\\n157,12.13,13.73,0.8081,5.394,2.745,4.825,5.22,1\\n158,11.75,13.52,0.8082,5.444,2.678,4.378,5.31,1\\n159,11.49,13.22,0.8263,5.304,2.695,5.388,5.31,1\\n160,12.54,13.67,0.8425,5.451,2.879,3.082,5.491,1\\n161,12.02,13.33,0.8503,5.35,2.81,4.271,5.308,1\\n162,12.05,13.41,0.8416,5.267,2.847,4.988,5.046,1\\n163,12.55,13.57,0.8558,5.333,2.968,4.419,5.176,1\\n164,11.14,12.79,0.8558,5.011,2.794,6.388,5.049,1\\n165,12.1,13.15,0.8793,5.105,2.941,2.201,5.056,2\\n166,12.44,13.59,0.8462,5.319,2.897,4.924,5.27,1\\n167,12.15,13.45,0.8443,5.417,2.837,3.638,5.338,1\\n168,11.35,13.12,0.8291,5.176,2.668,4.337,5.132,1\\n169,11.24,13,0.8359,5.09,2.715,3.521,5.088,1\\n170,11.02,13,0.8189,5.325,2.701,6.735,5.163,1\\n171,11.55,13.1,0.8455,5.167,2.845,6.715,4.956,1\\n172,11.27,12.97,0.8419,5.088,2.763,4.309,5,1\\n173,11.4,13.08,0.8375,5.136,2.763,5.588,5.089,1\\n174,10.83,12.96,0.8099,5.278,2.641,5.182,5.185,1\\n175,10.8,12.57,0.859,4.981,2.821,4.773,5.063,1\\n176,11.26,13.01,0.8355,5.186,2.71,5.335,5.092,1\\n177,10.74,12.73,0.8329,5.145,2.642,4.702,4.963,1\\n178,11.48,13.05,0.8473,5.18,2.758,5.876,5.002,1\\n179,12.21,13.47,0.8453,5.357,2.893,1.661,5.178,1\\n180,11.41,12.95,0.856,5.09,2.775,4.957,4.825,1\\n181,12.46,13.41,0.8706,5.236,3.017,4.987,5.147,1\\n182,12.19,13.36,0.8579,5.24,2.909,4.857,5.158,1\\n183,11.65,13.07,0.8575,5.108,2.85,5.209,5.135,1\\n184,12.89,13.77,0.8541,5.495,3.026,6.185,5.316,1\\n185,11.56,13.31,0.8198,5.363,2.683,4.062,5.182,1\\n186,11.81,13.45,0.8198,5.413,2.716,4.898,5.352,1\\n187,10.91,12.8,0.8372,5.088,2.675,4.179,4.956,1\\n188,11.23,12.82,0.8594,5.089,2.821,7.524,4.957,1\\n189,10.59,12.41,0.8648,4.899,2.787,4.975,4.794,1\\n190,10.93,12.8,0.839,5.046,2.717,5.398,5.045,1\\n191,11.27,12.86,0.8563,5.091,2.804,3.985,5.001,1\\n192,11.87,13.02,0.8795,5.132,2.953,3.597,5.132,1\\n193,10.82,12.83,0.8256,5.18,2.63,4.853,5.089,1\\n194,12.11,13.27,0.8639,5.236,2.975,4.132,5.012,1\\n195,12.8,13.47,0.886,5.16,3.126,4.873,4.914,1\\n196,12.79,13.53,0.8786,5.224,3.054,5.483,4.958,1\\n197,13.37,13.78,0.8849,5.32,3.128,4.67,5.091,2\\n198,12.62,13.67,0.8481,5.41,2.911,3.306,5.231,1\\n199,12.76,13.38,0.8964,5.073,3.155,2.828,4.83,2\\n200,12.38,13.44,0.8609,5.219,2.989,5.472,5.045,1\\n201,12.67,13.32,0.8977,4.984,3.135,2.3,4.745,2\\n202,11.18,12.72,0.868,5.009,2.81,4.051,4.828,1\\n203,12.7,13.41,0.8874,5.183,3.091,8.456,5,1\\n204,12.37,13.47,0.8567,5.204,2.96,3.919,5.001,1\\n205,12.19,13.2,0.8783,5.137,2.981,3.631,4.87,1\\n206,11.23,12.88,0.8511,5.14,2.795,4.325,5.003,1\\n207,13.2,13.66,0.8883,5.236,3.232,8.315,5.056,1\\n208,11.84,13.21,0.8521,5.175,2.836,3.598,5.044,1\\n209,12.3,13.34,0.8684,5.243,2.974,5.637,5.063,1\\n'"
            ]
          },
          "metadata": {},
          "execution_count": 21
        }
      ]
    },
    {
      "cell_type": "code",
      "metadata": {
        "colab": {
          "base_uri": "https://localhost:8080/"
        },
        "id": "kXZvnT4-wnzk",
        "outputId": "69ec9289-d12f-48c3-96de-37e0e2a89f41"
      },
      "source": [
        "from sklearn.decomposition import PCA\n",
        "\n",
        "pca = PCA(n_components=2)\n",
        "\n",
        "pca_data = pca.fit_transform(scaled_1)\n",
        "\n",
        "print(pca.components_)\n",
        "\n",
        "import pandas as pd\n",
        "\n",
        "df = pd.DataFrame(pca_data, columns=['Comp 1', 'Comp 2'])\n",
        "\n",
        "df.loc[:,'cluster'] = y_km.copy()"
      ],
      "execution_count": null,
      "outputs": [
        {
          "output_type": "stream",
          "name": "stdout",
          "text": [
            "[[ 0.44447352  0.44157147  0.27701737  0.42356333  0.43281866 -0.11869248\n",
            "   0.38716084]\n",
            " [-0.02656355 -0.08400282  0.52915125 -0.20597518  0.11668963 -0.71688203\n",
            "  -0.37719327]]\n"
          ]
        }
      ]
    },
    {
      "cell_type": "code",
      "metadata": {
        "colab": {
          "base_uri": "https://localhost:8080/",
          "height": 443
        },
        "id": "UDQ71J1jw0_H",
        "outputId": "e1eaf365-2862-43d9-89c3-838aba1aa016"
      },
      "source": [
        "cluster0 = df[df['cluster'] == 0]\n",
        "cluster1 = df[df['cluster'] == 1]\n",
        "cluster2 = df[df['cluster'] == 2]\n",
        "cluster3 = df[df['cluster'] == 3]\n",
        "\n",
        "plt.figure(figsize=(10,7))\n",
        "\n",
        "x = 'Comp 1'\n",
        "y = 'Comp 2'\n",
        "\n",
        "#scatter del primer cluster\n",
        "plt.scatter(\n",
        "    cluster0[x], cluster0[y],\n",
        "    c='red',\n",
        "    marker='s', edgecolor='black',\n",
        "    label='cluster 0'\n",
        ")\n",
        "\n",
        "plt.scatter(\n",
        "    cluster1[x], cluster1[y],\n",
        "    c='green',\n",
        "    marker='o', edgecolor='black',\n",
        "    label='cluster 1'\n",
        ")\n",
        "\n",
        "plt.scatter(\n",
        "    cluster2[x], cluster2[y],\n",
        "    c='blue',\n",
        "    marker='x', edgecolor='black',\n",
        "    label='cluster 2'\n",
        ")\n",
        "\n",
        "plt.scatter(\n",
        "    cluster3[x], cluster3[y],\n",
        "    c='yellow',\n",
        "    marker='v', edgecolor='black',\n",
        "    label='cluster 3'\n",
        ")\n",
        "\n",
        "plt.legend(scatterpoints=1)\n",
        "\n",
        "plt.xlabel(x)\n",
        "plt.ylabel(y)\n",
        "\n",
        "plt.grid()\n",
        "#lo imprime en pantalla\n",
        "plt.show()"
      ],
      "execution_count": null,
      "outputs": [
        {
          "output_type": "display_data",
          "data": {
            "image/png": "[encoded data removed]",
            "text/plain": [
              "<Figure size 720x504 with 1 Axes>"
            ]
          },
          "metadata": {
            "needs_background": "light"
          }
        }
      ]
    }
  ]
}