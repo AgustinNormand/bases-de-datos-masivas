{
  "nbformat": 4,
  "nbformat_minor": 0,
  "metadata": {
    "colab": {
      "name": "Hackaton.ipynb",
      "provenance": []
    },
    "kernelspec": {
      "name": "python3",
      "display_name": "Python 3"
    },
    "language_info": {
      "name": "python"
    }
  },
  "cells": [
    {
      "cell_type": "code",
      "metadata": {
        "id": "Lz99TP_COyWv",
        "outputId": "3255a204-9328-4365-c392-0781c0f7eb84",
        "colab": {
          "base_uri": "https://localhost:8080/"
        }
      },
      "source": [
        "!rm train.csv\n",
        "!wget https://raw.githubusercontent.com/AgustinNormand/bases-de-datos-masivas/main/Hackaton/data/train.csv"
      ],
      "execution_count": 1,
      "outputs": [
        {
          "output_type": "stream",
          "name": "stdout",
          "text": [
            "rm: cannot remove 'train.csv': No such file or directory\n",
            "--2021-11-10 19:05:10--  https://raw.githubusercontent.com/AgustinNormand/bases-de-datos-masivas/main/Hackaton/data/train.csv\n",
            "Resolving raw.githubusercontent.com (raw.githubusercontent.com)... 185.199.108.133, 185.199.109.133, 185.199.110.133, ...\n",
            "Connecting to raw.githubusercontent.com (raw.githubusercontent.com)|185.199.108.133|:443... connected.\n",
            "HTTP request sent, awaiting response... 200 OK\n",
            "Length: 22062224 (21M) [text/plain]\n",
            "Saving to: ‘train.csv’\n",
            "\n",
            "train.csv           100%[===================>]  21.04M   104MB/s    in 0.2s    \n",
            "\n",
            "2021-11-10 19:05:11 (104 MB/s) - ‘train.csv’ saved [22062224/22062224]\n",
            "\n"
          ]
        }
      ]
    }
  ]
}